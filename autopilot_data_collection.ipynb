{
 "cells": [
  {
   "cell_type": "markdown",
   "metadata": {},
   "source": [
    "### IMPORTS"
   ]
  },
  {
   "cell_type": "code",
   "execution_count": 1,
   "metadata": {},
   "outputs": [],
   "source": [
    "import ipywidgets\n",
    "import cv2\n",
    "from IPython.display import display\n",
    "from jetracer.nvidia_racecar import NvidiaRacecar\n",
    "from jetcam.csi_camera import CSICamera\n",
    "import traitlets\n",
    "import time\n",
    "import shutil\n",
    "import os\n",
    "import pandas as pd"
   ]
  },
  {
   "cell_type": "markdown",
   "metadata": {},
   "source": [
    "<br>\n",
    "\n",
    "### HYPERPARAMETERS"
   ]
  },
  {
   "cell_type": "code",
   "execution_count": 24,
   "metadata": {},
   "outputs": [],
   "source": [
    "STEERING_OFFSET = 0.05\n",
    "THROTTLE_GAIN = 0.7\n",
    "\n",
    "WIDTH = 224\n",
    "HEIGHT = 224\n",
    "FPS = 10\n",
    "SHOW_CAMERA_PREVIEW = True\n",
    "\n",
    "DATASETS_DIR = \"/home/greg/datasets/\"\n",
    "TMP_DATASET_DIR = DATASETS_DIR + \"tmp/\"\n",
    "ANNOTATIONS_FILE = \"annotations.csv\"\n",
    "TMP_ANNOTATIONS = TMP_DATASET_DIR + ANNOTATIONS_FILE\n",
    "MAIN_DATASET_DIR = DATASETS_DIR + \"camera-basic_motion_0_training/\"\n",
    "MAIN_ANNOTATIONS = MAIN_DATASET_DIR + ANNOTATIONS_FILE"
   ]
  },
  {
   "cell_type": "markdown",
   "metadata": {},
   "source": [
    "<br>\n",
    "\n",
    "### DATA COLLECTION"
   ]
  },
  {
   "cell_type": "code",
   "execution_count": 25,
   "metadata": {},
   "outputs": [],
   "source": [
    "def reset_temp_dataset_dir():\n",
    "    if not os.path.exists(TMP_DATASET_DIR):\n",
    "        os.makedirs(TMP_DATASET_DIR)\n",
    "    else:\n",
    "        for file in os.listdir(TMP_DATASET_DIR):\n",
    "            os.remove(TMP_DATASET_DIR+file)\n",
    "\n",
    "reset_temp_dataset_dir()\n",
    "\n",
    "if not os.path.exists(MAIN_DATASET_DIR):\n",
    "    os.makedirs(MAIN_DATASET_DIR)"
   ]
  },
  {
   "cell_type": "code",
   "execution_count": 26,
   "metadata": {},
   "outputs": [],
   "source": [
    "def start_recording():\n",
    "    reset_temp_dataset_dir()\n",
    "    \n",
    "def save_recording():\n",
    "    for file in os.listdir(TMP_DATASET_DIR):\n",
    "        if file.endswith('.csv'):\n",
    "            if os.path.exists(MAIN_ANNOTATIONS) and os.stat(MAIN_ANNOTATIONS).st_size > 0:\n",
    "                with open(MAIN_ANNOTATIONS, 'a') as main:\n",
    "                    with open(TMP_ANNOTATIONS) as tmp:\n",
    "                        for line in tmp:\n",
    "                            main.write(line)\n",
    "                        tmp.close()\n",
    "                    main.close()\n",
    "                continue\n",
    "        shutil.move(TMP_DATASET_DIR+file, MAIN_DATASET_DIR+file)\n",
    "    \n",
    "    reset_temp_dataset_dir()"
   ]
  },
  {
   "cell_type": "markdown",
   "metadata": {},
   "source": [
    "<br>\n",
    "\n",
    "### CAR CONTROLLER"
   ]
  },
  {
   "cell_type": "code",
   "execution_count": 5,
   "metadata": {},
   "outputs": [],
   "source": [
    "car = NvidiaRacecar()\n",
    "car.throttle_gain = THROTTLE_GAIN\n",
    "car.steering_offset = STEERING_OFFSET"
   ]
  },
  {
   "cell_type": "code",
   "execution_count": 6,
   "metadata": {},
   "outputs": [
    {
     "data": {
      "application/vnd.jupyter.widget-view+json": {
       "model_id": "429e849c41dd494087761bb0286b5e0c",
       "version_major": 2,
       "version_minor": 0
      },
      "text/plain": [
       "Controller()"
      ]
     },
     "metadata": {},
     "output_type": "display_data"
    }
   ],
   "source": [
    "controller = ipywidgets.widgets.Controller(index=0)\n",
    "display(controller)\n",
    "time.sleep(1.0)"
   ]
  },
  {
   "cell_type": "code",
   "execution_count": 8,
   "metadata": {},
   "outputs": [],
   "source": [
    "# Specific to Gamepad Mode 2\n",
    "\n",
    "steering_link = traitlets.dlink((controller.axes[2], 'value'), (car, 'steering'), transform=lambda x: -x)\n",
    "throttle_link = traitlets.dlink((controller.axes[1], 'value'), (car, 'throttle'), transform=lambda x: x)\n",
    "\n",
    "full_throttle_link = traitlets.dlink((controller.buttons[6], 'value'), (car, 'throttle'), transform=lambda x: -1.0 if x > 0.5 else 0)\n",
    "half_throttle_link = traitlets.dlink((controller.buttons[4], 'value'), (car, 'throttle'), transform=lambda x: -0.5 if x > 0.5 else 0)\n",
    "brake_throttle_link = traitlets.dlink((controller.buttons[7], 'value'), (car, 'throttle'), transform=lambda x: 0.0)\n",
    "half_treverse_link = traitlets.dlink((controller.buttons[5], 'value'), (car, 'throttle'), transform=lambda x: 0.5 if x > 0.5 else 0)\n",
    "\n",
    "def is_valid_press(x):\n",
    "    return x['name'] == 'pressed' and x['new']\n",
    "\n",
    "controller.buttons[2].observe(lambda x: start_recording() if is_valid_press(x) else ())\n",
    "controller.buttons[1].observe(lambda x: save_recording() if is_valid_press(x) else ())"
   ]
  },
  {
   "cell_type": "markdown",
   "metadata": {},
   "source": [
    "<br>\n",
    "\n",
    "### CAMERA"
   ]
  },
  {
   "cell_type": "code",
   "execution_count": 9,
   "metadata": {},
   "outputs": [],
   "source": [
    "camera = CSICamera(width=WIDTH, height=HEIGHT, capture_fps=FPS)\n",
    "camera.running = True"
   ]
  },
  {
   "cell_type": "code",
   "execution_count": 27,
   "metadata": {},
   "outputs": [],
   "source": [
    "def save_annotated_camera_frame(frame):\n",
    "    timestamp = str(int(time.monotonic()*1e9))\n",
    "    encoded_image = cv2.imencode('.jpg', frame)[1]\n",
    "    \n",
    "    def save_camera_frame():\n",
    "        decoded_image = cv2.imdecode(encoded_image,cv2.IMREAD_COLOR)\n",
    "        cv2.imwrite(TMP_DATASET_DIR+timestamp+\".jpg\", decoded_image)\n",
    "        \n",
    "    def save_annotation():\n",
    "        with open(TMP_ANNOTATIONS, 'a') as f: \n",
    "            f.write(timestamp + \", \" + str(round(car.steering, 2)) + \", \" + str(round(car.throttle, 2)) + \"\\n\")\n",
    "            f.close()\n",
    "    \n",
    "    save_camera_frame()\n",
    "    save_annotation()\n",
    "\n",
    "    return bytes(encoded_image)"
   ]
  },
  {
   "cell_type": "code",
   "execution_count": 11,
   "metadata": {},
   "outputs": [
    {
     "data": {
      "application/vnd.jupyter.widget-view+json": {
       "model_id": "f0eb231c695845929241d5c681ff47e6",
       "version_major": 2,
       "version_minor": 0
      },
      "text/plain": [
       "Image(value=b'', format='jpeg')"
      ]
     },
     "metadata": {},
     "output_type": "display_data"
    }
   ],
   "source": [
    "image = ipywidgets.Image(format='jpeg')\n",
    "if SHOW_CAMERA_PREVIEW:\n",
    "    display(image)"
   ]
  },
  {
   "cell_type": "code",
   "execution_count": 12,
   "metadata": {},
   "outputs": [],
   "source": [
    "camera_link = traitlets.dlink((camera, 'value'), (image, 'value'), transform=save_annotated_camera_frame)"
   ]
  }
 ],
 "metadata": {
  "kernelspec": {
   "display_name": "Python 3",
   "language": "python",
   "name": "python3"
  },
  "language_info": {
   "codemirror_mode": {
    "name": "ipython",
    "version": 3
   },
   "file_extension": ".py",
   "mimetype": "text/x-python",
   "name": "python",
   "nbconvert_exporter": "python",
   "pygments_lexer": "ipython3",
   "version": "3.6.9"
  }
 },
 "nbformat": 4,
 "nbformat_minor": 4
}
